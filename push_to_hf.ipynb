{
 "cells": [
  {
   "cell_type": "code",
   "execution_count": 1,
   "metadata": {},
   "outputs": [
    {
     "name": "stdout",
     "output_type": "stream",
     "text": [
      "🦥 Unsloth: Will patch your computer to enable 2x faster free finetuning.\n",
      "🦥 Unsloth Zoo will now patch everything to make training faster!\n"
     ]
    }
   ],
   "source": [
    "from unsloth import FastLanguageModel, PatchFastRL\n",
    "PatchFastRL(\"GRPO\", FastLanguageModel)"
   ]
  },
  {
   "cell_type": "code",
   "execution_count": 2,
   "metadata": {},
   "outputs": [
    {
     "name": "stdout",
     "output_type": "stream",
     "text": [
      "INFO 02-27 10:43:09 __init__.py:207] Automatically detected platform cuda.\n",
      "==((====))==  Unsloth 2025.2.15: Fast Qwen2 patching. Transformers: 4.49.0.\n",
      "   \\\\   /|    GPU: NVIDIA GeForce RTX 3060. Max memory: 11.999 GB. Platform: Linux.\n",
      "O^O/ \\_/ \\    Torch: 2.5.1. CUDA: 8.6. CUDA Toolkit: 12.1. Triton: 3.1.0\n",
      "\\        /    Bfloat16 = TRUE. FA [Xformers = 0.0.28.post3. FA2 = False]\n",
      " \"-____-\"     Free Apache license: http://github.com/unslothai/unsloth\n",
      "Unsloth: Fast downloading is enabled - ignore downloading bars which are red colored!\n",
      "Unsloth: vLLM loading unsloth/qwen2.5-1.5b-unsloth-bnb-4bit with actual GPU utilization = 73.23%\n",
      "Unsloth: Your GPU has CUDA compute capability 8.6 with VRAM = 12.0 GB.\n",
      "Unsloth: Using conservativeness = 1.0. Chunked prefill tokens = 1024. Num Sequences = 192.\n",
      "Unsloth: vLLM's KV Cache can use up to 7.45 GB. Also swap space = 4 GB.\n",
      "INFO 02-27 10:44:12 config.py:549] This model supports multiple tasks: {'generate', 'reward', 'embed', 'score', 'classify'}. Defaulting to 'generate'.\n",
      "Unsloth: vLLM Bitsandbytes config using kwargs = {'load_in_8bit': False, 'load_in_4bit': True, 'bnb_4bit_compute_dtype': 'bfloat16', 'bnb_4bit_quant_storage': 'uint8', 'bnb_4bit_quant_type': 'nf4', 'bnb_4bit_use_double_quant': True, 'llm_int8_enable_fp32_cpu_offload': False, 'llm_int8_has_fp16_weight': False, 'llm_int8_skip_modules': ['lm_head', 'multi_modal_projector', 'merger', 'modality_projection', 'model.layers.0.self_attn', 'model.layers.0.mlp', 'model.layers.1.mlp', 'model.layers.2.mlp', 'model.layers.26.mlp', 'model.layers.15.self_attn'], 'llm_int8_threshold': 6.0}\n",
      "INFO 02-27 10:44:15 llm_engine.py:234] Initializing a V0 LLM engine (v0.7.3) with config: model='unsloth/qwen2.5-1.5b-unsloth-bnb-4bit', speculative_config=None, tokenizer='unsloth/qwen2.5-1.5b-unsloth-bnb-4bit', skip_tokenizer_init=False, tokenizer_mode=auto, revision=None, override_neuron_config=None, tokenizer_revision=None, trust_remote_code=False, dtype=torch.bfloat16, max_seq_len=1024, download_dir=None, load_format=LoadFormat.BITSANDBYTES, tensor_parallel_size=1, pipeline_parallel_size=1, disable_custom_all_reduce=False, quantization=bitsandbytes, enforce_eager=False, kv_cache_dtype=auto,  device_config=cuda:0, decoding_config=DecodingConfig(guided_decoding_backend='xgrammar'), observability_config=ObservabilityConfig(otlp_traces_endpoint=None, collect_model_forward_time=False, collect_model_execute_time=False), seed=0, served_model_name=unsloth/qwen2.5-1.5b-unsloth-bnb-4bit, num_scheduler_steps=1, multi_step_stream_outputs=True, enable_prefix_caching=True, chunked_prefill_enabled=False, use_async_output_proc=True, disable_mm_preprocessor_cache=False, mm_processor_kwargs=None, pooler_config=None, compilation_config={\"level\":0,\"splitting_ops\":[],\"compile_sizes\":[],\"cudagraph_capture_sizes\":[192,184,176,168,160,152,144,136,128,120,112,104,96,88,80,72,64,56,48,40,32,24,16,8,4,2,1],\"max_capture_size\":192}, use_cached_outputs=False, \n",
      "WARNING 02-27 10:44:16 interface.py:304] Using 'pin_memory=False' as WSL is detected. This may slow down the performance.\n",
      "INFO 02-27 10:44:17 cuda.py:229] Using Flash Attention backend.\n",
      "INFO 02-27 10:44:18 model_runner.py:1110] Starting to load model unsloth/qwen2.5-1.5b-unsloth-bnb-4bit...\n"
     ]
    },
    {
     "name": "stderr",
     "output_type": "stream",
     "text": [
      "[W227 10:44:18.040962805 CUDAAllocatorConfig.h:28] Warning: expandable_segments not supported on this platform (function operator())\n"
     ]
    },
    {
     "name": "stdout",
     "output_type": "stream",
     "text": [
      "INFO 02-27 10:44:19 loader.py:1089] Loading weights with BitsAndBytes quantization.  May take a while ...\n",
      "INFO 02-27 10:44:20 weight_utils.py:254] Using model weights format ['*.safetensors']\n"
     ]
    },
    {
     "data": {
      "application/vnd.jupyter.widget-view+json": {
       "model_id": "a7ec88d5086b4476ade5fbe12edd6def",
       "version_major": 2,
       "version_minor": 0
      },
      "text/plain": [
       "Loading safetensors checkpoint shards:   0% Completed | 0/1 [00:00<?, ?it/s]\n"
      ]
     },
     "metadata": {},
     "output_type": "display_data"
    },
    {
     "data": {
      "application/vnd.jupyter.widget-view+json": {
       "model_id": "038aa10747f8412da3530460210aadc9",
       "version_major": 2,
       "version_minor": 0
      },
      "text/plain": [
       "Loading safetensors checkpoint shards:   0% Completed | 0/1 [00:00<?, ?it/s]\n"
      ]
     },
     "metadata": {},
     "output_type": "display_data"
    },
    {
     "name": "stdout",
     "output_type": "stream",
     "text": [
      "INFO 02-27 10:45:44 model_runner.py:1115] Loading model weights took 1.3190 GB\n",
      "INFO 02-27 10:45:44 punica_selector.py:18] Using PunicaWrapperGPU.\n",
      "INFO 02-27 10:45:49 worker.py:267] Memory profiling takes 4.98 seconds\n",
      "INFO 02-27 10:45:49 worker.py:267] the current vLLM instance can use total_gpu_memory (12.00GiB) x gpu_memory_utilization (0.73) = 8.79GiB\n",
      "INFO 02-27 10:45:49 worker.py:267] model weights take 1.32GiB; non_torch_memory takes 0.03GiB; PyTorch activation peak memory takes 1.05GiB; the rest of the memory reserved for KV Cache is 6.39GiB.\n",
      "INFO 02-27 10:45:49 executor_base.py:111] # cuda blocks: 14957, # CPU blocks: 9362\n",
      "INFO 02-27 10:45:49 executor_base.py:116] Maximum concurrency for 1024 tokens per request: 233.70x\n",
      "INFO 02-27 10:45:50 model_runner.py:1434] Capturing cudagraphs for decoding. This may lead to unexpected consequences if the model is not static. To run the model in eager mode, set 'enforce_eager=True' or use '--enforce-eager' in the CLI. If out-of-memory error occurs during cudagraph capture, consider decreasing `gpu_memory_utilization` or switching to eager mode. You can also reduce the `max_num_seqs` as needed to decrease memory usage.\n"
     ]
    },
    {
     "name": "stderr",
     "output_type": "stream",
     "text": [
      "Capturing CUDA graph shapes: 100%|██████████| 27/27 [00:16<00:00,  1.68it/s]"
     ]
    },
    {
     "name": "stdout",
     "output_type": "stream",
     "text": [
      "INFO 02-27 10:46:06 model_runner.py:1562] Graph capturing finished in 16 secs, took 0.84 GiB\n",
      "INFO 02-27 10:46:06 llm_engine.py:436] init engine (profile, create kv cache, warmup model) took 22.10 seconds\n"
     ]
    },
    {
     "name": "stderr",
     "output_type": "stream",
     "text": [
      "\n",
      "Unsloth 2025.2.15 patched 28 layers with 28 QKV layers, 28 O layers and 28 MLP layers.\n"
     ]
    }
   ],
   "source": [
    "from unsloth import is_bfloat16_supported\n",
    "import torch\n",
    "max_seq_length = 1024 # Can increase for longer reasoning traces\n",
    "lora_rank = 64 # Larger rank = smarter, but slower\n",
    "\n",
    "model, tokenizer = FastLanguageModel.from_pretrained(\n",
    "    model_name = \"unsloth/Qwen2.5-1.5B\",\n",
    "    max_seq_length = max_seq_length,\n",
    "    load_in_4bit = True, # False for LoRA 16bit\n",
    "    fast_inference = True, # Enable vLLM fast inference\n",
    "    max_lora_rank = lora_rank,\n",
    "    gpu_memory_utilization = 0.8, # Reduce if out of memory\n",
    ")\n",
    "\n",
    "model = FastLanguageModel.get_peft_model(\n",
    "    model,\n",
    "    r = lora_rank, # Choose any number > 0 ! Suggested 8, 16, 32, 64, 128\n",
    "    target_modules = [\n",
    "        \"q_proj\", \"k_proj\", \"v_proj\", \"o_proj\",\n",
    "        \"gate_proj\", \"up_proj\", \"down_proj\",\n",
    "    ], # Remove QKVO if out of memory\n",
    "    lora_alpha = lora_rank,\n",
    "    use_gradient_checkpointing = \"unsloth\", # Enable long context finetuning\n",
    "    random_state = 3407,\n",
    ")"
   ]
  },
  {
   "cell_type": "code",
   "execution_count": 6,
   "metadata": {},
   "outputs": [],
   "source": [
    "tokenizer.chat_template = \"\"\"{% for message in messages %}{% if message['role'] == 'user' %}{{ '<|im_start|>user\\n' + message['content'] + '<|im_end|>\\n' }}{% elif message['role'] == 'assistant' %}{{ '<|im_start|>assistant\\n' + message['content'] + '<|im_end|>\\n' }}{% elif message['role'] == 'system' %}{{ '<|im_start|>system\\n' + message['content'] + '<|im_end|>\\n' }}{% endif %}{% endfor %}{% if add_generation_prompt %}{{ '<|im_start|>assistant\\n' }}{% endif %}\"\"\""
   ]
  },
  {
   "cell_type": "code",
   "execution_count": 7,
   "metadata": {},
   "outputs": [],
   "source": [
    "SYSTEM_PROMPT = \"\"\"\n",
    "Respond in the following format:\n",
    "<reasoning>\n",
    "...\n",
    "</reasoning>\n",
    "<answer>\n",
    "...\n",
    "</answer>\n",
    "\"\"\""
   ]
  },
  {
   "cell_type": "code",
   "execution_count": 8,
   "metadata": {},
   "outputs": [
    {
     "name": "stderr",
     "output_type": "stream",
     "text": [
      "Processed prompts: 100%|██████████| 1/1 [00:09<00:00,  9.70s/it, est. speed input: 4.43 toks/s, output: 101.23 toks/s]\n"
     ]
    },
    {
     "data": {
      "text/plain": [
       "\"How many s's are in strawberries?猞\\n\\n猞猞猞猞猞猞猞猞猞猞猞猞猞猞猞猞猞猞猞猞猞猞猞猞猞猞猞猞猞猞猞猞猞猞猞猞猞猞猞猞猞猞猞猞猞猞猞猞猞猞猞猞猞猞猞猞猞猞猞猞猞猞猞猞猞猞猞猞猞猞猞猞猞猞猞猞猞猞猞猞猞猞猞猞猞猞猞猞猞猞猞猞猞猞猞猞猞猞猞猞猞猞猞猞猞猞猞猞猞猞猞猞猞猞猞猞猞猞猞猞猞猞猞猞猞猞猞猞猞猞猞猞猞猞猞猞猞猞猞猞猞猞猞猞猞猞猞猞猞猞猞猞猞猞猞猞猞猞猞猞猞猞猞猞猞猞猞猞猞猞猞猞猞猞猞猞猞猞猞猞猞猞猞猞猞猞猞猞猞猞猞猞猞猞猞猞猞猞猞猞猞猞猞猞猞猞猞猞猞猞猞猞猞猞猞猞猞猞猞猞猞猞猞猞猞猞猞猞猞猞猞猞猞猞猞猞猞猞猞猞猞猞猞猞猞猞猞猞猞猞猞猞猞猞猞猞猞猞猞猞猞猞猞猞猞猞猞猞猞猞猞猞猞猞猞猞猞猞猞猞猞猞猞猞猞猞猞猞猞猞猞猞猞猞猞猞猞猞猞猞猞猞猞猞猞猞猞猞猞猞猞猞猞猞猞猞猞猞猞猞猞猞猞猞猞猞猞猞猞猞猞猞猞猞猞猞猞猞猞猞猞猞猞猞猞猞猞猞猞猞猞猞猞猞猞猞猞猞猞猞猞猞猞猞猞猞猞猞猞猞猞猞猞猞猞猞猞猞猞猞猞猞猞猞猞猞猞猞猞猞猞猞猞猞猞猞猞猞猞猞猞猞猞猞猞猞猞猞猞猞猞猞猞猞猞猞猞猞猞猞猞猞猞猞猞猞猞猞猞猞猞猞猞猞猞猞猞猞猞猞猞猞猞猞猞猞猞猞猞猞猞猞猞猞猞猞猞猞猞猞猞猞猞猞猞猞猞猞猞猞猞猞猞猞猞猞猞猞猞猞猞猞猞猞猞猞猞猞猞猞猞猞猞猞猞猞猞猞猞猞猞猞猞猞猞猞猞猞猞猞猞猞猞猞猞猞猞猞猞猞猞猞猞猞猞猞猞猞猞猞猞猞猞猞猞猞猞猞猞猞猞猞猞猞猞猞猞猞猞猞猞猞猞猞猞猞猞猞猞猞猞猞猞猞猞猞猞猞猞猞猞猞猞猞猞猞猞猞猞猞猞猞猞猞猞猞猞猞猞猞猞猞猞猞猞猞猞猞猞猞猞猞猞猞猞猞猞猞猞猞猞猞猞猞猞猞猞猞猞猞猞猞猞猞猞猞猞猞猞猞猞猞猞猞猞猞猞猞猞猞猞猞猞猞猞猞猞猞猞猞猞猞猞猞猞猞猞猞猞猞猞猞猞猞猞猞猞猞猞猞猞猞猞猞猞猞猞猞猞猞猞猞猞猞猞猞猞猞猞猞猞猞猞猞猞猞猞猞猞猞猞猞猞猞猞猞猞猞猞猞猞猞猞猞猞猞猞猞猞猞猞猞猞猞猞猞猞猞猞猞猞猞猞猞猞猞猞猞猞猞猞猞猞猞猞猞猞猞猞猞猞猞猞猞猞猞猞猞猞猞猞猞猞猞猞猞猞猞猞猞猞猞猞猞猞猞猞猞猞猞猞猞猞猞猞猞猞猞猞猞猞猞猞猞猞猞猞猞猞猞猞猞猞猞猞猞猞猞猞猞猞猞猞猞猞猞猞猞猞猞猞猞猞猞猞猞猞猞猞猞猞猞猞猞猞猞猞猞猞猞猞猞猞猞猞猞猞猞猞猞猞猞猞猞猞猞猞猞猞猞猞猞猞猞猞猞猞猞猞猞猞猞猞猞猞猞猞猞猞猞猞猞猞猞猞猞猞猞猞猞猞猞猞猞猞猞猞猞猞猞猞猞猞猞猞猞猞猞猞猞猞猞猞猞猞猞猞猞猞猞猞猞猞猞猞猞猞猞猞猞猞猞猞猞猞猞猞猞猞猞猞猞猞猞猞猞猞猞猞猞猞猞猞猞猞猞猞猞猞猞猞猞猞猞猞猞猞猞猞猞猞猞\""
      ]
     },
     "execution_count": 8,
     "metadata": {},
     "output_type": "execute_result"
    }
   ],
   "source": [
    "text = tokenizer.apply_chat_template([\n",
    "    {\"role\" : \"system\", \"content\" : SYSTEM_PROMPT},\n",
    "    {\"role\" : \"user\", \"content\" : \"How many r's are in strawberry?\"},\n",
    "], tokenize = False, add_generation_prompt = True)\n",
    "\n",
    "from vllm import SamplingParams\n",
    "sampling_params = SamplingParams(\n",
    "    temperature = 0.8,\n",
    "    top_p = 0.95,\n",
    "    max_tokens = 1024,\n",
    ")\n",
    "output = model.fast_generate(\n",
    "    text,\n",
    "    sampling_params = sampling_params,\n",
    "    lora_request = model.load_lora(\"grpo_saved_lora\"),\n",
    ")[0].outputs[0].text\n",
    "\n",
    "output"
   ]
  },
  {
   "cell_type": "code",
   "execution_count": 9,
   "metadata": {},
   "outputs": [],
   "source": [
    "import os\n",
    "from dotenv import load_dotenv\n",
    "load_dotenv()\n",
    "\n",
    "hf_token = os.getenv(\"HF_TOKEN\")"
   ]
  },
  {
   "cell_type": "code",
   "execution_count": 10,
   "metadata": {},
   "outputs": [],
   "source": [
    "# model.push_to_hub_merged(\"yuiseki/YuisekinAI-GRPO-Qwen2.5-1.5B-GSM8K-Lora\", tokenizer, save_method = \"lora\", token = hf_token)"
   ]
  }
 ],
 "metadata": {
  "kernelspec": {
   "display_name": "unsloth",
   "language": "python",
   "name": "python3"
  },
  "language_info": {
   "codemirror_mode": {
    "name": "ipython",
    "version": 3
   },
   "file_extension": ".py",
   "mimetype": "text/x-python",
   "name": "python",
   "nbconvert_exporter": "python",
   "pygments_lexer": "ipython3",
   "version": "3.11.11"
  }
 },
 "nbformat": 4,
 "nbformat_minor": 2
}
